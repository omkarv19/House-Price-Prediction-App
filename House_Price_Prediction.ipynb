{
 "cells": [
  {
   "cell_type": "code",
   "execution_count": 54,
   "id": "surface-motivation",
   "metadata": {},
   "outputs": [],
   "source": [
    "import numpy as np\n",
    "import pandas as pd \n",
    "import matplotlib.pyplot as plt\n",
    "import seaborn as sns"
   ]
  },
  {
   "cell_type": "code",
   "execution_count": 55,
   "id": "private-finish",
   "metadata": {},
   "outputs": [],
   "source": [
    "df=pd.read_csv(r\"housing_train.csv\")"
   ]
  },
  {
   "cell_type": "code",
   "execution_count": 56,
   "id": "attractive-setting",
   "metadata": {},
   "outputs": [
    {
     "data": {
      "text/plain": [
       "(7536, 16)"
      ]
     },
     "execution_count": 56,
     "metadata": {},
     "output_type": "execute_result"
    }
   ],
   "source": [
    "df.head()\n",
    "df.shape"
   ]
  },
  {
   "cell_type": "code",
   "execution_count": 57,
   "id": "photographic-contributor",
   "metadata": {},
   "outputs": [
    {
     "data": {
      "text/plain": [
       "Suburb          0.000000\n",
       "Address         0.000000\n",
       "Rooms           0.000000\n",
       "Type            0.000000\n",
       "Price           0.000000\n",
       "Method          0.000000\n",
       "SellerG         0.000000\n",
       "Distance        0.000000\n",
       "Postcode        0.000000\n",
       "Bedroom2        0.206874\n",
       "Bathroom        0.206874\n",
       "Car             0.206874\n",
       "Landsize        0.207537\n",
       "BuildingArea    0.558519\n",
       "YearBuilt       0.493232\n",
       "CouncilArea     0.207537\n",
       "dtype: float64"
      ]
     },
     "execution_count": 57,
     "metadata": {},
     "output_type": "execute_result"
    }
   ],
   "source": [
    "df.isnull().sum()/len(df)"
   ]
  },
  {
   "cell_type": "code",
   "execution_count": 58,
   "id": "spatial-maker",
   "metadata": {},
   "outputs": [
    {
     "data": {
      "text/html": [
       "<div>\n",
       "<style scoped>\n",
       "    .dataframe tbody tr th:only-of-type {\n",
       "        vertical-align: middle;\n",
       "    }\n",
       "\n",
       "    .dataframe tbody tr th {\n",
       "        vertical-align: top;\n",
       "    }\n",
       "\n",
       "    .dataframe thead th {\n",
       "        text-align: right;\n",
       "    }\n",
       "</style>\n",
       "<table border=\"1\" class=\"dataframe\">\n",
       "  <thead>\n",
       "    <tr style=\"text-align: right;\">\n",
       "      <th></th>\n",
       "      <th>Suburb</th>\n",
       "      <th>Address</th>\n",
       "      <th>Rooms</th>\n",
       "      <th>Type</th>\n",
       "      <th>Price</th>\n",
       "      <th>Method</th>\n",
       "      <th>SellerG</th>\n",
       "      <th>Distance</th>\n",
       "      <th>Postcode</th>\n",
       "      <th>Bedroom2</th>\n",
       "      <th>Bathroom</th>\n",
       "      <th>Car</th>\n",
       "      <th>Landsize</th>\n",
       "      <th>BuildingArea</th>\n",
       "      <th>YearBuilt</th>\n",
       "      <th>CouncilArea</th>\n",
       "    </tr>\n",
       "  </thead>\n",
       "  <tbody>\n",
       "    <tr>\n",
       "      <th>0</th>\n",
       "      <td>Brunswick</td>\n",
       "      <td>52 Evans St</td>\n",
       "      <td>3</td>\n",
       "      <td>h</td>\n",
       "      <td>1650000</td>\n",
       "      <td>S</td>\n",
       "      <td>Nelson</td>\n",
       "      <td>5.2</td>\n",
       "      <td>3056</td>\n",
       "      <td>3.0</td>\n",
       "      <td>1.0</td>\n",
       "      <td>2.0</td>\n",
       "      <td>495.0</td>\n",
       "      <td>141.0</td>\n",
       "      <td>1920.0</td>\n",
       "      <td>Moreland</td>\n",
       "    </tr>\n",
       "    <tr>\n",
       "      <th>1</th>\n",
       "      <td>Reservoir</td>\n",
       "      <td>85 Radford Rd</td>\n",
       "      <td>5</td>\n",
       "      <td>h</td>\n",
       "      <td>791000</td>\n",
       "      <td>S</td>\n",
       "      <td>Ray</td>\n",
       "      <td>11.2</td>\n",
       "      <td>3073</td>\n",
       "      <td>4.0</td>\n",
       "      <td>3.0</td>\n",
       "      <td>1.0</td>\n",
       "      <td>961.0</td>\n",
       "      <td>NaN</td>\n",
       "      <td>NaN</td>\n",
       "      <td>Darebin</td>\n",
       "    </tr>\n",
       "    <tr>\n",
       "      <th>2</th>\n",
       "      <td>Newport</td>\n",
       "      <td>99 Anderson St</td>\n",
       "      <td>3</td>\n",
       "      <td>h</td>\n",
       "      <td>785000</td>\n",
       "      <td>S</td>\n",
       "      <td>RT</td>\n",
       "      <td>8.4</td>\n",
       "      <td>3015</td>\n",
       "      <td>3.0</td>\n",
       "      <td>1.0</td>\n",
       "      <td>1.0</td>\n",
       "      <td>185.0</td>\n",
       "      <td>NaN</td>\n",
       "      <td>NaN</td>\n",
       "      <td>Hobsons Bay</td>\n",
       "    </tr>\n",
       "    <tr>\n",
       "      <th>3</th>\n",
       "      <td>Brighton East</td>\n",
       "      <td>4/377 South Rd</td>\n",
       "      <td>2</td>\n",
       "      <td>u</td>\n",
       "      <td>755000</td>\n",
       "      <td>SP</td>\n",
       "      <td>Buxton</td>\n",
       "      <td>10.7</td>\n",
       "      <td>3187</td>\n",
       "      <td>NaN</td>\n",
       "      <td>NaN</td>\n",
       "      <td>NaN</td>\n",
       "      <td>NaN</td>\n",
       "      <td>NaN</td>\n",
       "      <td>NaN</td>\n",
       "      <td>NaN</td>\n",
       "    </tr>\n",
       "    <tr>\n",
       "      <th>4</th>\n",
       "      <td>Hawthorn East</td>\n",
       "      <td>3 Jaques St</td>\n",
       "      <td>5</td>\n",
       "      <td>h</td>\n",
       "      <td>2500000</td>\n",
       "      <td>VB</td>\n",
       "      <td>RT</td>\n",
       "      <td>7.5</td>\n",
       "      <td>3123</td>\n",
       "      <td>5.0</td>\n",
       "      <td>3.0</td>\n",
       "      <td>3.0</td>\n",
       "      <td>757.0</td>\n",
       "      <td>240.0</td>\n",
       "      <td>1925.0</td>\n",
       "      <td>Boroondara</td>\n",
       "    </tr>\n",
       "  </tbody>\n",
       "</table>\n",
       "</div>"
      ],
      "text/plain": [
       "          Suburb         Address  Rooms Type    Price Method SellerG  \\\n",
       "0      Brunswick     52 Evans St      3    h  1650000      S  Nelson   \n",
       "1      Reservoir   85 Radford Rd      5    h   791000      S     Ray   \n",
       "2        Newport  99 Anderson St      3    h   785000      S      RT   \n",
       "3  Brighton East  4/377 South Rd      2    u   755000     SP  Buxton   \n",
       "4  Hawthorn East     3 Jaques St      5    h  2500000     VB      RT   \n",
       "\n",
       "   Distance  Postcode  Bedroom2  Bathroom  Car  Landsize  BuildingArea  \\\n",
       "0       5.2      3056       3.0       1.0  2.0     495.0         141.0   \n",
       "1      11.2      3073       4.0       3.0  1.0     961.0           NaN   \n",
       "2       8.4      3015       3.0       1.0  1.0     185.0           NaN   \n",
       "3      10.7      3187       NaN       NaN  NaN       NaN           NaN   \n",
       "4       7.5      3123       5.0       3.0  3.0     757.0         240.0   \n",
       "\n",
       "   YearBuilt  CouncilArea  \n",
       "0     1920.0     Moreland  \n",
       "1        NaN      Darebin  \n",
       "2        NaN  Hobsons Bay  \n",
       "3        NaN          NaN  \n",
       "4     1925.0   Boroondara  "
      ]
     },
     "execution_count": 58,
     "metadata": {},
     "output_type": "execute_result"
    }
   ],
   "source": [
    "df.head()"
   ]
  },
  {
   "cell_type": "code",
   "execution_count": 59,
   "id": "intimate-staff",
   "metadata": {},
   "outputs": [
    {
     "data": {
      "text/plain": [
       "<AxesSubplot:>"
      ]
     },
     "execution_count": 59,
     "metadata": {},
     "output_type": "execute_result"
    },
    {
     "data": {
      "image/png": "[encoded data removed]",
      "text/plain": [
       "<Figure size 1080x720 with 2 Axes>"
      ]
     },
     "metadata": {
      "needs_background": "light"
     },
     "output_type": "display_data"
    }
   ],
   "source": [
    "plt.figure(figsize=(15,10))\n",
    "sns.heatmap(df.corr(),annot=True,cbar=True)\n"
   ]
  },
  {
   "cell_type": "code",
   "execution_count": 60,
   "id": "incorporate-water",
   "metadata": {},
   "outputs": [
    {
     "data": {
      "text/plain": [
       "7468"
      ]
     },
     "execution_count": 60,
     "metadata": {},
     "output_type": "execute_result"
    }
   ],
   "source": [
    "len(df.Address.unique())"
   ]
  },
  {
   "cell_type": "code",
   "execution_count": 61,
   "id": "interpreted-target",
   "metadata": {},
   "outputs": [
    {
     "data": {
      "text/plain": [
       "142"
      ]
     },
     "execution_count": 61,
     "metadata": {},
     "output_type": "execute_result"
    }
   ],
   "source": [
    "len(df.Suburb.unique())"
   ]
  },
  {
   "cell_type": "code",
   "execution_count": 62,
   "id": "smooth-insulin",
   "metadata": {},
   "outputs": [
    {
     "data": {
      "text/plain": [
       "20"
      ]
     },
     "execution_count": 62,
     "metadata": {},
     "output_type": "execute_result"
    }
   ],
   "source": [
    "len(df.CouncilArea.unique())"
   ]
  },
  {
   "cell_type": "code",
   "execution_count": 63,
   "id": "electronic-making",
   "metadata": {},
   "outputs": [
    {
     "data": {
      "text/html": [
       "<div>\n",
       "<style scoped>\n",
       "    .dataframe tbody tr th:only-of-type {\n",
       "        vertical-align: middle;\n",
       "    }\n",
       "\n",
       "    .dataframe tbody tr th {\n",
       "        vertical-align: top;\n",
       "    }\n",
       "\n",
       "    .dataframe thead th {\n",
       "        text-align: right;\n",
       "    }\n",
       "</style>\n",
       "<table border=\"1\" class=\"dataframe\">\n",
       "  <thead>\n",
       "    <tr style=\"text-align: right;\">\n",
       "      <th></th>\n",
       "      <th>Suburb</th>\n",
       "      <th>Address</th>\n",
       "      <th>Rooms</th>\n",
       "      <th>Type</th>\n",
       "      <th>Price</th>\n",
       "      <th>Method</th>\n",
       "      <th>SellerG</th>\n",
       "      <th>Distance</th>\n",
       "      <th>Postcode</th>\n",
       "      <th>Bedroom2</th>\n",
       "      <th>Bathroom</th>\n",
       "      <th>Car</th>\n",
       "      <th>Landsize</th>\n",
       "      <th>BuildingArea</th>\n",
       "      <th>YearBuilt</th>\n",
       "      <th>CouncilArea</th>\n",
       "    </tr>\n",
       "  </thead>\n",
       "  <tbody>\n",
       "    <tr>\n",
       "      <th>7172</th>\n",
       "      <td>Oakleigh South</td>\n",
       "      <td>17 Windsor Av</td>\n",
       "      <td>9</td>\n",
       "      <td>h</td>\n",
       "      <td>1380000</td>\n",
       "      <td>S</td>\n",
       "      <td>Ray</td>\n",
       "      <td>14.7</td>\n",
       "      <td>3167</td>\n",
       "      <td>NaN</td>\n",
       "      <td>NaN</td>\n",
       "      <td>NaN</td>\n",
       "      <td>NaN</td>\n",
       "      <td>NaN</td>\n",
       "      <td>NaN</td>\n",
       "      <td>NaN</td>\n",
       "    </tr>\n",
       "  </tbody>\n",
       "</table>\n",
       "</div>"
      ],
      "text/plain": [
       "              Suburb        Address  Rooms Type    Price Method SellerG  \\\n",
       "7172  Oakleigh South  17 Windsor Av      9    h  1380000      S     Ray   \n",
       "\n",
       "      Distance  Postcode  Bedroom2  Bathroom  Car  Landsize  BuildingArea  \\\n",
       "7172      14.7      3167       NaN       NaN  NaN       NaN           NaN   \n",
       "\n",
       "      YearBuilt CouncilArea  \n",
       "7172        NaN         NaN  "
      ]
     },
     "execution_count": 63,
     "metadata": {},
     "output_type": "execute_result"
    }
   ],
   "source": [
    "df[df.Rooms==9].head(10)"
   ]
  },
  {
   "cell_type": "code",
   "execution_count": 64,
   "id": "cleared-decade",
   "metadata": {},
   "outputs": [],
   "source": [
    "df.drop(df.index[7172],inplace=True,axis=0)"
   ]
  },
  {
   "cell_type": "code",
   "execution_count": 65,
   "id": "magnetic-collective",
   "metadata": {},
   "outputs": [],
   "source": [
    "from statistics import mode"
   ]
  },
  {
   "cell_type": "code",
   "execution_count": 66,
   "id": "competent-bicycle",
   "metadata": {},
   "outputs": [
    {
     "data": {
      "text/plain": [
       "0       1.0\n",
       "1       3.0\n",
       "2       1.0\n",
       "3       1.0\n",
       "4       3.0\n",
       "       ... \n",
       "7531    1.0\n",
       "7532    1.0\n",
       "7533    2.0\n",
       "7534    2.0\n",
       "7535    1.0\n",
       "Name: Bathroom, Length: 7535, dtype: float64"
      ]
     },
     "execution_count": 66,
     "metadata": {},
     "output_type": "execute_result"
    }
   ],
   "source": [
    "df.groupby('Rooms').Bathroom.apply(lambda x: x.fillna(x.mode()[0]))"
   ]
  },
  {
   "cell_type": "code",
   "execution_count": 67,
   "id": "passive-serve",
   "metadata": {},
   "outputs": [
    {
     "data": {
      "text/plain": [
       "Suburb             0\n",
       "Address            0\n",
       "Rooms              0\n",
       "Type               0\n",
       "Price              0\n",
       "Method             0\n",
       "SellerG            0\n",
       "Distance           0\n",
       "Postcode           0\n",
       "Bedroom2        1558\n",
       "Bathroom           0\n",
       "Car             1558\n",
       "Landsize        1563\n",
       "BuildingArea    4208\n",
       "YearBuilt       3716\n",
       "CouncilArea     1563\n",
       "dtype: int64"
      ]
     },
     "execution_count": 67,
     "metadata": {},
     "output_type": "execute_result"
    }
   ],
   "source": [
    "df['Bathroom']=df.groupby('Rooms').Bathroom.apply(lambda x: x.fillna(x.mode()[0]))\n",
    "df.isnull().sum()"
   ]
  },
  {
   "cell_type": "code",
   "execution_count": 68,
   "id": "oriental-shame",
   "metadata": {},
   "outputs": [],
   "source": [
    "df['Car']=df.groupby('Rooms').Car.apply(lambda x: x.fillna(x.mode()[0]))\n",
    "df['Landsize']=df.groupby('Rooms').Landsize.apply(lambda x: x.fillna(x.mean()))"
   ]
  },
  {
   "cell_type": "code",
   "execution_count": 69,
   "id": "sensitive-gibson",
   "metadata": {},
   "outputs": [],
   "source": [
    "df['YearBuilt']=df.groupby('Rooms').YearBuilt.apply(lambda x: x.fillna(x.median()))\n",
    "df['BuildingArea']=df.groupby('Rooms').BuildingArea.apply(lambda x: x.fillna(x.median()))"
   ]
  },
  {
   "cell_type": "code",
   "execution_count": 70,
   "id": "copyrighted-parcel",
   "metadata": {},
   "outputs": [
    {
     "name": "stdout",
     "output_type": "stream",
     "text": [
      "<class 'pandas.core.frame.DataFrame'>\n",
      "Int64Index: 7535 entries, 0 to 7535\n",
      "Data columns (total 16 columns):\n",
      " #   Column        Non-Null Count  Dtype  \n",
      "---  ------        --------------  -----  \n",
      " 0   Suburb        7535 non-null   object \n",
      " 1   Address       7535 non-null   object \n",
      " 2   Rooms         7535 non-null   int64  \n",
      " 3   Type          7535 non-null   object \n",
      " 4   Price         7535 non-null   int64  \n",
      " 5   Method        7535 non-null   object \n",
      " 6   SellerG       7535 non-null   object \n",
      " 7   Distance      7535 non-null   float64\n",
      " 8   Postcode      7535 non-null   int64  \n",
      " 9   Bedroom2      5977 non-null   float64\n",
      " 10  Bathroom      7535 non-null   float64\n",
      " 11  Car           7535 non-null   float64\n",
      " 12  Landsize      7535 non-null   float64\n",
      " 13  BuildingArea  7535 non-null   float64\n",
      " 14  YearBuilt     7535 non-null   float64\n",
      " 15  CouncilArea   5972 non-null   object \n",
      "dtypes: float64(7), int64(3), object(6)\n",
      "memory usage: 1000.7+ KB\n"
     ]
    }
   ],
   "source": [
    "df.info()"
   ]
  },
  {
   "cell_type": "code",
   "execution_count": 71,
   "id": "fiscal-large",
   "metadata": {},
   "outputs": [],
   "source": [
    "df.drop(['CouncilArea','Address','Bedroom2','Suburb'],axis=1,inplace=True)"
   ]
  },
  {
   "cell_type": "code",
   "execution_count": 72,
   "id": "capital-glasgow",
   "metadata": {},
   "outputs": [
    {
     "data": {
      "text/html": [
       "<div>\n",
       "<style scoped>\n",
       "    .dataframe tbody tr th:only-of-type {\n",
       "        vertical-align: middle;\n",
       "    }\n",
       "\n",
       "    .dataframe tbody tr th {\n",
       "        vertical-align: top;\n",
       "    }\n",
       "\n",
       "    .dataframe thead th {\n",
       "        text-align: right;\n",
       "    }\n",
       "</style>\n",
       "<table border=\"1\" class=\"dataframe\">\n",
       "  <thead>\n",
       "    <tr style=\"text-align: right;\">\n",
       "      <th></th>\n",
       "      <th>Type</th>\n",
       "      <th>Method</th>\n",
       "      <th>SellerG</th>\n",
       "    </tr>\n",
       "  </thead>\n",
       "  <tbody>\n",
       "    <tr>\n",
       "      <th>0</th>\n",
       "      <td>h</td>\n",
       "      <td>S</td>\n",
       "      <td>Nelson</td>\n",
       "    </tr>\n",
       "    <tr>\n",
       "      <th>1</th>\n",
       "      <td>h</td>\n",
       "      <td>S</td>\n",
       "      <td>Ray</td>\n",
       "    </tr>\n",
       "    <tr>\n",
       "      <th>2</th>\n",
       "      <td>h</td>\n",
       "      <td>S</td>\n",
       "      <td>RT</td>\n",
       "    </tr>\n",
       "    <tr>\n",
       "      <th>3</th>\n",
       "      <td>u</td>\n",
       "      <td>SP</td>\n",
       "      <td>Buxton</td>\n",
       "    </tr>\n",
       "    <tr>\n",
       "      <th>4</th>\n",
       "      <td>h</td>\n",
       "      <td>VB</td>\n",
       "      <td>RT</td>\n",
       "    </tr>\n",
       "    <tr>\n",
       "      <th>...</th>\n",
       "      <td>...</td>\n",
       "      <td>...</td>\n",
       "      <td>...</td>\n",
       "    </tr>\n",
       "    <tr>\n",
       "      <th>7531</th>\n",
       "      <td>u</td>\n",
       "      <td>PI</td>\n",
       "      <td>Burnham</td>\n",
       "    </tr>\n",
       "    <tr>\n",
       "      <th>7532</th>\n",
       "      <td>h</td>\n",
       "      <td>SP</td>\n",
       "      <td>Nelson</td>\n",
       "    </tr>\n",
       "    <tr>\n",
       "      <th>7533</th>\n",
       "      <td>h</td>\n",
       "      <td>PI</td>\n",
       "      <td>Jellis</td>\n",
       "    </tr>\n",
       "    <tr>\n",
       "      <th>7534</th>\n",
       "      <td>h</td>\n",
       "      <td>S</td>\n",
       "      <td>hockingstuart</td>\n",
       "    </tr>\n",
       "    <tr>\n",
       "      <th>7535</th>\n",
       "      <td>u</td>\n",
       "      <td>VB</td>\n",
       "      <td>Nelson</td>\n",
       "    </tr>\n",
       "  </tbody>\n",
       "</table>\n",
       "<p>7535 rows × 3 columns</p>\n",
       "</div>"
      ],
      "text/plain": [
       "     Type Method        SellerG\n",
       "0       h      S         Nelson\n",
       "1       h      S            Ray\n",
       "2       h      S             RT\n",
       "3       u     SP         Buxton\n",
       "4       h     VB             RT\n",
       "...   ...    ...            ...\n",
       "7531    u     PI        Burnham\n",
       "7532    h     SP         Nelson\n",
       "7533    h     PI         Jellis\n",
       "7534    h      S  hockingstuart\n",
       "7535    u     VB         Nelson\n",
       "\n",
       "[7535 rows x 3 columns]"
      ]
     },
     "execution_count": 72,
     "metadata": {},
     "output_type": "execute_result"
    }
   ],
   "source": [
    "df.select_dtypes(include='object')"
   ]
  },
  {
   "cell_type": "code",
   "execution_count": 73,
   "id": "liquid-auction",
   "metadata": {},
   "outputs": [
    {
     "data": {
      "text/plain": [
       "Rooms           0\n",
       "Type            0\n",
       "Price           0\n",
       "Method          0\n",
       "SellerG         0\n",
       "Distance        0\n",
       "Postcode        0\n",
       "Bathroom        0\n",
       "Car             0\n",
       "Landsize        0\n",
       "BuildingArea    0\n",
       "YearBuilt       0\n",
       "dtype: int64"
      ]
     },
     "execution_count": 73,
     "metadata": {},
     "output_type": "execute_result"
    }
   ],
   "source": [
    "df.isnull().sum()"
   ]
  },
  {
   "cell_type": "code",
   "execution_count": 74,
   "id": "lucky-access",
   "metadata": {},
   "outputs": [
    {
     "data": {
      "text/html": [
       "<div>\n",
       "<style scoped>\n",
       "    .dataframe tbody tr th:only-of-type {\n",
       "        vertical-align: middle;\n",
       "    }\n",
       "\n",
       "    .dataframe tbody tr th {\n",
       "        vertical-align: top;\n",
       "    }\n",
       "\n",
       "    .dataframe thead th {\n",
       "        text-align: right;\n",
       "    }\n",
       "</style>\n",
       "<table border=\"1\" class=\"dataframe\">\n",
       "  <thead>\n",
       "    <tr style=\"text-align: right;\">\n",
       "      <th></th>\n",
       "      <th>Rooms</th>\n",
       "      <th>Type</th>\n",
       "      <th>Price</th>\n",
       "      <th>Method</th>\n",
       "      <th>SellerG</th>\n",
       "      <th>Distance</th>\n",
       "      <th>Postcode</th>\n",
       "      <th>Bathroom</th>\n",
       "      <th>Car</th>\n",
       "      <th>Landsize</th>\n",
       "      <th>BuildingArea</th>\n",
       "      <th>YearBuilt</th>\n",
       "    </tr>\n",
       "  </thead>\n",
       "  <tbody>\n",
       "    <tr>\n",
       "      <th>0</th>\n",
       "      <td>3</td>\n",
       "      <td>h</td>\n",
       "      <td>1650000</td>\n",
       "      <td>S</td>\n",
       "      <td>Nelson</td>\n",
       "      <td>5.2</td>\n",
       "      <td>3056</td>\n",
       "      <td>1.0</td>\n",
       "      <td>2.0</td>\n",
       "      <td>495.000000</td>\n",
       "      <td>141.0</td>\n",
       "      <td>1920.0</td>\n",
       "    </tr>\n",
       "    <tr>\n",
       "      <th>1</th>\n",
       "      <td>5</td>\n",
       "      <td>h</td>\n",
       "      <td>791000</td>\n",
       "      <td>S</td>\n",
       "      <td>Ray</td>\n",
       "      <td>11.2</td>\n",
       "      <td>3073</td>\n",
       "      <td>3.0</td>\n",
       "      <td>1.0</td>\n",
       "      <td>961.000000</td>\n",
       "      <td>286.0</td>\n",
       "      <td>1950.0</td>\n",
       "    </tr>\n",
       "    <tr>\n",
       "      <th>2</th>\n",
       "      <td>3</td>\n",
       "      <td>h</td>\n",
       "      <td>785000</td>\n",
       "      <td>S</td>\n",
       "      <td>RT</td>\n",
       "      <td>8.4</td>\n",
       "      <td>3015</td>\n",
       "      <td>1.0</td>\n",
       "      <td>1.0</td>\n",
       "      <td>185.000000</td>\n",
       "      <td>130.0</td>\n",
       "      <td>1960.0</td>\n",
       "    </tr>\n",
       "    <tr>\n",
       "      <th>3</th>\n",
       "      <td>2</td>\n",
       "      <td>u</td>\n",
       "      <td>755000</td>\n",
       "      <td>SP</td>\n",
       "      <td>Buxton</td>\n",
       "      <td>10.7</td>\n",
       "      <td>3187</td>\n",
       "      <td>1.0</td>\n",
       "      <td>1.0</td>\n",
       "      <td>301.031467</td>\n",
       "      <td>84.0</td>\n",
       "      <td>1970.0</td>\n",
       "    </tr>\n",
       "    <tr>\n",
       "      <th>4</th>\n",
       "      <td>5</td>\n",
       "      <td>h</td>\n",
       "      <td>2500000</td>\n",
       "      <td>VB</td>\n",
       "      <td>RT</td>\n",
       "      <td>7.5</td>\n",
       "      <td>3123</td>\n",
       "      <td>3.0</td>\n",
       "      <td>3.0</td>\n",
       "      <td>757.000000</td>\n",
       "      <td>240.0</td>\n",
       "      <td>1925.0</td>\n",
       "    </tr>\n",
       "  </tbody>\n",
       "</table>\n",
       "</div>"
      ],
      "text/plain": [
       "   Rooms Type    Price Method SellerG  Distance  Postcode  Bathroom  Car  \\\n",
       "0      3    h  1650000      S  Nelson       5.2      3056       1.0  2.0   \n",
       "1      5    h   791000      S     Ray      11.2      3073       3.0  1.0   \n",
       "2      3    h   785000      S      RT       8.4      3015       1.0  1.0   \n",
       "3      2    u   755000     SP  Buxton      10.7      3187       1.0  1.0   \n",
       "4      5    h  2500000     VB      RT       7.5      3123       3.0  3.0   \n",
       "\n",
       "     Landsize  BuildingArea  YearBuilt  \n",
       "0  495.000000         141.0     1920.0  \n",
       "1  961.000000         286.0     1950.0  \n",
       "2  185.000000         130.0     1960.0  \n",
       "3  301.031467          84.0     1970.0  \n",
       "4  757.000000         240.0     1925.0  "
      ]
     },
     "execution_count": 74,
     "metadata": {},
     "output_type": "execute_result"
    }
   ],
   "source": [
    "df.head()"
   ]
  },
  {
   "cell_type": "code",
   "execution_count": 75,
   "id": "subtle-battlefield",
   "metadata": {},
   "outputs": [
    {
     "name": "stderr",
     "output_type": "stream",
     "text": [
      "c:\\users\\vasudev\\appdata\\local\\programs\\python\\python39\\lib\\site-packages\\seaborn\\distributions.py:2557: FutureWarning: `distplot` is a deprecated function and will be removed in a future version. Please adapt your code to use either `displot` (a figure-level function with similar flexibility) or `histplot` (an axes-level function for histograms).\n",
      "  warnings.warn(msg, FutureWarning)\n"
     ]
    },
    {
     "data": {
      "text/plain": [
       "<AxesSubplot:xlabel='Price', ylabel='Density'>"
      ]
     },
     "execution_count": 75,
     "metadata": {},
     "output_type": "execute_result"
    },
    {
     "data": {
      "image/png": "[encoded data removed]",
      "text/plain": [
       "<Figure size 432x288 with 1 Axes>"
      ]
     },
     "metadata": {
      "needs_background": "light"
     },
     "output_type": "display_data"
    }
   ],
   "source": [
    "sns.distplot(df.Price)"
   ]
  },
  {
   "cell_type": "code",
   "execution_count": 76,
   "id": "right-alaska",
   "metadata": {},
   "outputs": [],
   "source": [
    "df.Price=np.log(df.Price)"
   ]
  },
  {
   "cell_type": "code",
   "execution_count": 77,
   "id": "derived-thumbnail",
   "metadata": {},
   "outputs": [
    {
     "name": "stderr",
     "output_type": "stream",
     "text": [
      "c:\\users\\vasudev\\appdata\\local\\programs\\python\\python39\\lib\\site-packages\\seaborn\\distributions.py:2557: FutureWarning: `distplot` is a deprecated function and will be removed in a future version. Please adapt your code to use either `displot` (a figure-level function with similar flexibility) or `histplot` (an axes-level function for histograms).\n",
      "  warnings.warn(msg, FutureWarning)\n"
     ]
    },
    {
     "data": {
      "text/plain": [
       "<AxesSubplot:xlabel='Price', ylabel='Density'>"
      ]
     },
     "execution_count": 77,
     "metadata": {},
     "output_type": "execute_result"
    },
    {
     "data": {
      "image/png": "[encoded data removed]",
      "text/plain": [
       "<Figure size 432x288 with 1 Axes>"
      ]
     },
     "metadata": {
      "needs_background": "light"
     },
     "output_type": "display_data"
    }
   ],
   "source": [
    "sns.distplot(np.log(df.Price))"
   ]
  },
  {
   "cell_type": "code",
   "execution_count": 78,
   "id": "operating-settle",
   "metadata": {},
   "outputs": [],
   "source": [
    "df.Method=df.Method.str.strip()"
   ]
  },
  {
   "cell_type": "code",
   "execution_count": 79,
   "id": "grateful-timothy",
   "metadata": {},
   "outputs": [
    {
     "data": {
      "text/plain": [
       "S     4893\n",
       "PI     979\n",
       "SP     932\n",
       "VB     703\n",
       "SA      28\n",
       "Name: Method, dtype: int64"
      ]
     },
     "execution_count": 79,
     "metadata": {},
     "output_type": "execute_result"
    }
   ],
   "source": [
    "df.Method.value_counts()"
   ]
  },
  {
   "cell_type": "code",
   "execution_count": 80,
   "id": "monetary-identifier",
   "metadata": {},
   "outputs": [
    {
     "data": {
      "text/plain": [
       "['Nelson',\n",
       " 'Jellis',\n",
       " 'hockingstuart',\n",
       " 'Barry',\n",
       " 'Marshall',\n",
       " 'Buxton',\n",
       " 'Ray',\n",
       " 'Biggin',\n",
       " 'Brad',\n",
       " 'Woodards',\n",
       " 'Fletchers',\n",
       " 'RT',\n",
       " 'Greg',\n",
       " 'Miles',\n",
       " 'Sweeney']"
      ]
     },
     "execution_count": 80,
     "metadata": {},
     "output_type": "execute_result"
    }
   ],
   "source": [
    "rep_value=df.SellerG.value_counts().head(15).index.tolist()\n",
    "rep_value"
   ]
  },
  {
   "cell_type": "code",
   "execution_count": 81,
   "id": "occupational-walker",
   "metadata": {},
   "outputs": [],
   "source": [
    "df['SellerG']=df['SellerG'].apply(lambda x: x if x in rep_value else 'other')"
   ]
  },
  {
   "cell_type": "code",
   "execution_count": 82,
   "id": "chemical-yahoo",
   "metadata": {},
   "outputs": [
    {
     "data": {
      "text/plain": [
       "array(['Nelson', 'Ray', 'RT', 'Buxton', 'other', 'hockingstuart',\n",
       "       'Fletchers', 'Jellis', 'Marshall', 'Biggin', 'Barry', 'Miles',\n",
       "       'Sweeney', 'Greg', 'Brad', 'Woodards'], dtype=object)"
      ]
     },
     "execution_count": 82,
     "metadata": {},
     "output_type": "execute_result"
    }
   ],
   "source": [
    "df.SellerG.unique()"
   ]
  },
  {
   "cell_type": "code",
   "execution_count": 83,
   "id": "assured-automation",
   "metadata": {},
   "outputs": [],
   "source": [
    "X=df.drop('Price',axis=1)"
   ]
  },
  {
   "cell_type": "code",
   "execution_count": 84,
   "id": "centered-northern",
   "metadata": {},
   "outputs": [],
   "source": [
    "y=df.Price"
   ]
  },
  {
   "cell_type": "code",
   "execution_count": 85,
   "id": "certified-office",
   "metadata": {},
   "outputs": [],
   "source": [
    "from sklearn.model_selection import train_test_split\n",
    "from sklearn.ensemble import RandomForestRegressor\n",
    "from sklearn.metrics import mean_squared_error as MSE"
   ]
  },
  {
   "cell_type": "code",
   "execution_count": 86,
   "id": "cognitive-waterproof",
   "metadata": {},
   "outputs": [],
   "source": [
    "X_train,X_test,y_train,y_test=train_test_split(X,y,test_size=0.2,random_state=0)"
   ]
  },
  {
   "cell_type": "code",
   "execution_count": 87,
   "id": "personalized-romantic",
   "metadata": {},
   "outputs": [],
   "source": [
    "from sklearn.preprocessing import OneHotEncoder\n",
    "from sklearn.preprocessing import OrdinalEncoder\n",
    "from sklearn.compose import ColumnTransformer\n",
    "from sklearn.pipeline import make_pipeline\n",
    "from sklearn.pipeline import Pipeline"
   ]
  },
  {
   "cell_type": "code",
   "execution_count": 88,
   "id": "typical-mileage",
   "metadata": {},
   "outputs": [],
   "source": [
    "trf1=ColumnTransformer(transformers=[('encoder1',OneHotEncoder(sparse=False,handle_unknown='ignore'),[1,3])],remainder='passthrough')\n",
    "trf2=ColumnTransformer(transformers=[('encoder2',OneHotEncoder(sparse=False,handle_unknown='ignore'),[-8])],remainder='passthrough')"
   ]
  },
  {
   "cell_type": "code",
   "execution_count": 89,
   "id": "cooperative-saturn",
   "metadata": {},
   "outputs": [],
   "source": [
    "trf3=RandomForestRegressor()"
   ]
  },
  {
   "cell_type": "code",
   "execution_count": 90,
   "id": "homeless-dynamics",
   "metadata": {},
   "outputs": [],
   "source": [
    "pipe=make_pipeline(trf1,trf2,trf3)"
   ]
  },
  {
   "cell_type": "code",
   "execution_count": 91,
   "id": "strong-screening",
   "metadata": {
    "scrolled": true
   },
   "outputs": [
    {
     "data": {
      "text/plain": [
       "Pipeline(steps=[('columntransformer-1',\n",
       "                 ColumnTransformer(remainder='passthrough',\n",
       "                                   transformers=[('encoder1',\n",
       "                                                  OneHotEncoder(handle_unknown='ignore',\n",
       "                                                                sparse=False),\n",
       "                                                  [1, 3])])),\n",
       "                ('columntransformer-2',\n",
       "                 ColumnTransformer(remainder='passthrough',\n",
       "                                   transformers=[('encoder2',\n",
       "                                                  OneHotEncoder(handle_unknown='ignore',\n",
       "                                                                sparse=False),\n",
       "                                                  [-8])])),\n",
       "                ('randomforestregressor', RandomForestRegressor())])"
      ]
     },
     "execution_count": 91,
     "metadata": {},
     "output_type": "execute_result"
    }
   ],
   "source": [
    "pipe.fit(X_train,y_train)"
   ]
  },
  {
   "cell_type": "code",
   "execution_count": 93,
   "id": "human-planet",
   "metadata": {},
   "outputs": [],
   "source": [
    "pred=pipe.predict(X_test)"
   ]
  },
  {
   "cell_type": "code",
   "execution_count": 94,
   "id": "outer-briefs",
   "metadata": {},
   "outputs": [],
   "source": [
    "rmse=np.sqrt(MSE(pred,y_test))"
   ]
  },
  {
   "cell_type": "code",
   "execution_count": 95,
   "id": "registered-tracker",
   "metadata": {},
   "outputs": [
    {
     "data": {
      "text/plain": [
       "0.2229257196312619"
      ]
     },
     "execution_count": 95,
     "metadata": {},
     "output_type": "execute_result"
    }
   ],
   "source": [
    "rmse"
   ]
  },
  {
   "cell_type": "code",
   "execution_count": 96,
   "id": "overall-orlando",
   "metadata": {},
   "outputs": [
    {
     "data": {
      "text/plain": [
       "0.8023803605861182"
      ]
     },
     "execution_count": 96,
     "metadata": {},
     "output_type": "execute_result"
    }
   ],
   "source": [
    "from sklearn.metrics import r2_score\n",
    "r2_score(pred,y_test)"
   ]
  },
  {
   "cell_type": "code",
   "execution_count": 98,
   "id": "hundred-boundary",
   "metadata": {},
   "outputs": [],
   "source": [
    "import pickle\n",
    "file=open('Random_forest_regression_model.pkl','wb')\n",
    "\n",
    "pickle.dump(pipe,file)\n"
   ]
  },
  {
   "cell_type": "code",
   "execution_count": 99,
   "id": "exotic-inspector",
   "metadata": {},
   "outputs": [],
   "source": [
    "file.close()"
   ]
  },
  {
   "cell_type": "code",
   "execution_count": 100,
   "id": "consistent-daughter",
   "metadata": {},
   "outputs": [
    {
     "name": "stdout",
     "output_type": "stream",
     "text": [
      "<class 'pandas.core.frame.DataFrame'>\n",
      "Int64Index: 6028 entries, 137 to 2732\n",
      "Data columns (total 11 columns):\n",
      " #   Column        Non-Null Count  Dtype  \n",
      "---  ------        --------------  -----  \n",
      " 0   Rooms         6028 non-null   int64  \n",
      " 1   Type          6028 non-null   object \n",
      " 2   Method        6028 non-null   object \n",
      " 3   SellerG       6028 non-null   object \n",
      " 4   Distance      6028 non-null   float64\n",
      " 5   Postcode      6028 non-null   int64  \n",
      " 6   Bathroom      6028 non-null   float64\n",
      " 7   Car           6028 non-null   float64\n",
      " 8   Landsize      6028 non-null   float64\n",
      " 9   BuildingArea  6028 non-null   float64\n",
      " 10  YearBuilt     6028 non-null   float64\n",
      "dtypes: float64(6), int64(2), object(3)\n",
      "memory usage: 565.1+ KB\n"
     ]
    }
   ],
   "source": [
    "X_train.info()"
   ]
  },
  {
   "cell_type": "code",
   "execution_count": 101,
   "id": "improved-slide",
   "metadata": {},
   "outputs": [],
   "source": [
    "file1=open('df.pkl','wb')\n",
    "pickle.dump(X_train,file1)\n"
   ]
  },
  {
   "cell_type": "code",
   "execution_count": 102,
   "id": "meaning-pursuit",
   "metadata": {},
   "outputs": [],
   "source": [
    "file1.close()"
   ]
  }
 ],
 "metadata": {
  "kernelspec": {
   "display_name": "Python 3",
   "language": "python",
   "name": "python3"
  },
  "language_info": {
   "codemirror_mode": {
    "name": "ipython",
    "version": 3
   },
   "file_extension": ".py",
   "mimetype": "text/x-python",
   "name": "python",
   "nbconvert_exporter": "python",
   "pygments_lexer": "ipython3",
   "version": "3.9.2"
  }
 },
 "nbformat": 4,
 "nbformat_minor": 5
}
